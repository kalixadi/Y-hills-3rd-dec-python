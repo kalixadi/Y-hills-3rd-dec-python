{
 "cells": [
  {
   "cell_type": "code",
   "execution_count": 1,
   "id": "174b4a64",
   "metadata": {},
   "outputs": [
    {
     "name": "stdout",
     "output_type": "stream",
     "text": [
      "hello world\n"
     ]
    }
   ],
   "source": [
    "print(\"hello world\")"
   ]
  },
  {
   "cell_type": "code",
   "execution_count": 2,
   "id": "b1418d79",
   "metadata": {},
   "outputs": [
    {
     "name": "stdout",
     "output_type": "stream",
     "text": [
      "aditya siddharth jyoti\n"
     ]
    }
   ],
   "source": [
    "print(\"aditya siddharth jyoti\")"
   ]
  },
  {
   "cell_type": "code",
   "execution_count": 3,
   "id": "28357132",
   "metadata": {},
   "outputs": [
    {
     "data": {
      "text/plain": [
       "'premlatha'"
      ]
     },
     "execution_count": 3,
     "metadata": {},
     "output_type": "execute_result"
    }
   ],
   "source": [
    "\"premlatha\""
   ]
  },
  {
   "cell_type": "code",
   "execution_count": 6,
   "id": "e8fe5726",
   "metadata": {},
   "outputs": [
    {
     "ename": "NameError",
     "evalue": "name 'Print' is not defined",
     "output_type": "error",
     "traceback": [
      "\u001b[1;31m---------------------------------------------------------------------------\u001b[0m",
      "\u001b[1;31mNameError\u001b[0m                                 Traceback (most recent call last)",
      "Input \u001b[1;32mIn [6]\u001b[0m, in \u001b[0;36m<cell line: 1>\u001b[1;34m()\u001b[0m\n\u001b[1;32m----> 1\u001b[0m \u001b[43mPrint\u001b[49m(\u001b[38;5;124m\"\u001b[39m\u001b[38;5;124madi\u001b[39m\u001b[38;5;124m\"\u001b[39m)\n",
      "\u001b[1;31mNameError\u001b[0m: name 'Print' is not defined"
     ]
    }
   ],
   "source": [
    "Print(\"adi\") "
   ]
  },
  {
   "cell_type": "markdown",
   "id": "30897772",
   "metadata": {},
   "source": [
    "### python is case sensitive . If fuction is in small letters , then writting in small letter will create name error"
   ]
  },
  {
   "cell_type": "code",
   "execution_count": 8,
   "id": "c2380c4c",
   "metadata": {},
   "outputs": [
    {
     "name": "stdout",
     "output_type": "stream",
     "text": [
      "10\n"
     ]
    }
   ],
   "source": [
    "print(10)"
   ]
  },
  {
   "cell_type": "code",
   "execution_count": 9,
   "id": "4b23564d",
   "metadata": {},
   "outputs": [
    {
     "ename": "NameError",
     "evalue": "name 'aditya' is not defined",
     "output_type": "error",
     "traceback": [
      "\u001b[1;31m---------------------------------------------------------------------------\u001b[0m",
      "\u001b[1;31mNameError\u001b[0m                                 Traceback (most recent call last)",
      "Input \u001b[1;32mIn [9]\u001b[0m, in \u001b[0;36m<cell line: 1>\u001b[1;34m()\u001b[0m\n\u001b[1;32m----> 1\u001b[0m \u001b[38;5;28mprint\u001b[39m(\u001b[43maditya\u001b[49m)\n",
      "\u001b[1;31mNameError\u001b[0m: name 'aditya' is not defined"
     ]
    }
   ],
   "source": [
    "print(aditya)"
   ]
  },
  {
   "cell_type": "markdown",
   "id": "96672db4",
   "metadata": {},
   "source": [
    "### A string should always be enclosed inside inverted comma ' ' or \" \""
   ]
  },
  {
   "cell_type": "markdown",
   "id": "b2a761db",
   "metadata": {},
   "source": [
    "# DATA TYPES"
   ]
  },
  {
   "cell_type": "code",
   "execution_count": 19,
   "id": "76307a00",
   "metadata": {},
   "outputs": [
    {
     "name": "stdout",
     "output_type": "stream",
     "text": [
      "<class 'int'> <class 'float'> <class 'str'>\n"
     ]
    }
   ],
   "source": [
    "x = 10\n",
    "y = 11.2\n",
    "z = \"adi\"\n",
    "a = type(x)\n",
    "b = type(y)\n",
    "c = type(z)\n",
    "print(a,b,c)"
   ]
  },
  {
   "cell_type": "markdown",
   "id": "4d95bc7d",
   "metadata": {},
   "source": [
    "# VARIABLES"
   ]
  },
  {
   "cell_type": "code",
   "execution_count": 20,
   "id": "83927873",
   "metadata": {},
   "outputs": [
    {
     "data": {
      "text/plain": [
       "tuple"
      ]
     },
     "execution_count": 20,
     "metadata": {},
     "output_type": "execute_result"
    }
   ],
   "source": [
    "coursenames = \"DS\" , \"AI\" , \"ML\" # while naming the only allowed special underscor (_)\n",
    "type(coursenames)"
   ]
  },
  {
   "cell_type": "code",
   "execution_count": 22,
   "id": "49e9c5a7",
   "metadata": {},
   "outputs": [
    {
     "data": {
      "text/plain": [
       "('DS', 'AI', 'ML')"
      ]
     },
     "execution_count": 22,
     "metadata": {},
     "output_type": "execute_result"
    }
   ],
   "source": [
    "course_names = \"DS\" , \"AI\" , \"ML\"\n",
    "course_names # while naming the only allowed special underscor (_)"
   ]
  },
  {
   "cell_type": "code",
   "execution_count": 23,
   "id": "d08db2d0",
   "metadata": {},
   "outputs": [
    {
     "data": {
      "text/plain": [
       "('DS', 'AI', 'ML')"
      ]
     },
     "execution_count": 23,
     "metadata": {},
     "output_type": "execute_result"
    }
   ],
   "source": [
    "course_names3 = \"DS\" , \"AI\" , \"ML\"\n",
    "course_names3 # naming should not start with number . it should start with either A to Z or a to z or underscore(_)"
   ]
  },
  {
   "cell_type": "code",
   "execution_count": null,
   "id": "a9d8e270",
   "metadata": {},
   "outputs": [],
   "source": []
  }
 ],
 "metadata": {
  "kernelspec": {
   "display_name": "Python 3 (ipykernel)",
   "language": "python",
   "name": "python3"
  },
  "language_info": {
   "codemirror_mode": {
    "name": "ipython",
    "version": 3
   },
   "file_extension": ".py",
   "mimetype": "text/x-python",
   "name": "python",
   "nbconvert_exporter": "python",
   "pygments_lexer": "ipython3",
   "version": "3.9.12"
  }
 },
 "nbformat": 4,
 "nbformat_minor": 5
}
