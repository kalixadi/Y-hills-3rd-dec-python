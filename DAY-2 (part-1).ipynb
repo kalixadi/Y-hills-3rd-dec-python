{
 "cells": [
  {
   "cell_type": "code",
   "execution_count": 1,
   "id": "d985622b",
   "metadata": {},
   "outputs": [
    {
     "data": {
      "text/plain": [
       "[1, 13.6, 'hi', 12, 1]"
      ]
     },
     "execution_count": 1,
     "metadata": {},
     "output_type": "execute_result"
    }
   ],
   "source": [
    "sample_list = [1,13.6,\"hi\",12,1]\n",
    "sample_list"
   ]
  },
  {
   "cell_type": "code",
   "execution_count": 5,
   "id": "62dafe2a",
   "metadata": {},
   "outputs": [
    {
     "data": {
      "text/plain": [
       "1"
      ]
     },
     "execution_count": 5,
     "metadata": {},
     "output_type": "execute_result"
    }
   ],
   "source": [
    "sample_list[0] # indexing starts from 0. and this is the format to retrieve elements inside the list."
   ]
  },
  {
   "cell_type": "code",
   "execution_count": 3,
   "id": "d86aba2f",
   "metadata": {},
   "outputs": [
    {
     "ename": "IndexError",
     "evalue": "list index out of range",
     "output_type": "error",
     "traceback": [
      "\u001b[1;31m---------------------------------------------------------------------------\u001b[0m",
      "\u001b[1;31mIndexError\u001b[0m                                Traceback (most recent call last)",
      "Input \u001b[1;32mIn [3]\u001b[0m, in \u001b[0;36m<cell line: 1>\u001b[1;34m()\u001b[0m\n\u001b[1;32m----> 1\u001b[0m \u001b[43msample_list\u001b[49m\u001b[43m[\u001b[49m\u001b[38;5;241;43m10\u001b[39;49m\u001b[43m]\u001b[49m\n",
      "\u001b[1;31mIndexError\u001b[0m: list index out of range"
     ]
    }
   ],
   "source": [
    "sample_list[10]"
   ]
  },
  {
   "cell_type": "code",
   "execution_count": 6,
   "id": "c329eb51",
   "metadata": {},
   "outputs": [
    {
     "data": {
      "text/plain": [
       "[100, 13.6, 'hi', 12, 1]"
      ]
     },
     "execution_count": 6,
     "metadata": {},
     "output_type": "execute_result"
    }
   ],
   "source": [
    "sample_list[0]=100 # mutable ( we can make the changes )\n",
    "sample_list"
   ]
  },
  {
   "cell_type": "code",
   "execution_count": 7,
   "id": "89b08f77",
   "metadata": {},
   "outputs": [
    {
     "data": {
      "text/plain": [
       "1"
      ]
     },
     "execution_count": 7,
     "metadata": {},
     "output_type": "execute_result"
    }
   ],
   "source": [
    "sample_list[-1] # indexing from backward starts with -1. "
   ]
  },
  {
   "cell_type": "code",
   "execution_count": 8,
   "id": "7c0908c5",
   "metadata": {},
   "outputs": [
    {
     "data": {
      "text/plain": [
       "13.6"
      ]
     },
     "execution_count": 8,
     "metadata": {},
     "output_type": "execute_result"
    }
   ],
   "source": [
    "sample_list[-4]"
   ]
  },
  {
   "cell_type": "markdown",
   "id": "282b3d44",
   "metadata": {},
   "source": [
    "# TUPLE"
   ]
  },
  {
   "cell_type": "markdown",
   "id": "ac30b4cf",
   "metadata": {},
   "source": [
    "### 1. Heterogenous   2. Paranthesis   3. Data can be retrived using indexing     4. Immutable"
   ]
  },
  {
   "cell_type": "code",
   "execution_count": 9,
   "id": "7bbc8632",
   "metadata": {},
   "outputs": [
    {
     "data": {
      "text/plain": [
       "(1, 13.6, 'hi', 12, 1)"
      ]
     },
     "execution_count": 9,
     "metadata": {},
     "output_type": "execute_result"
    }
   ],
   "source": [
    "sample_tuple = (1,13.6,\"hi\",12,1)\n",
    "sample_tuple"
   ]
  },
  {
   "cell_type": "code",
   "execution_count": 10,
   "id": "cef2440c",
   "metadata": {},
   "outputs": [
    {
     "ename": "TypeError",
     "evalue": "'tuple' object does not support item assignment",
     "output_type": "error",
     "traceback": [
      "\u001b[1;31m---------------------------------------------------------------------------\u001b[0m",
      "\u001b[1;31mTypeError\u001b[0m                                 Traceback (most recent call last)",
      "Input \u001b[1;32mIn [10]\u001b[0m, in \u001b[0;36m<cell line: 1>\u001b[1;34m()\u001b[0m\n\u001b[1;32m----> 1\u001b[0m sample_tuple[\u001b[38;5;241m0\u001b[39m] \u001b[38;5;241m=\u001b[39m \u001b[38;5;241m100\u001b[39m\n",
      "\u001b[1;31mTypeError\u001b[0m: 'tuple' object does not support item assignment"
     ]
    }
   ],
   "source": [
    "sample_tuple[0] = 100"
   ]
  },
  {
   "cell_type": "code",
   "execution_count": 11,
   "id": "34d14e80",
   "metadata": {},
   "outputs": [
    {
     "data": {
      "text/plain": [
       "12"
      ]
     },
     "execution_count": 11,
     "metadata": {},
     "output_type": "execute_result"
    }
   ],
   "source": [
    "sample_tuple[-2]"
   ]
  },
  {
   "cell_type": "markdown",
   "id": "56b55361",
   "metadata": {},
   "source": [
    "### For indexing and slicing we will use [ ] (square bracket) in python"
   ]
  },
  {
   "cell_type": "markdown",
   "id": "745de15d",
   "metadata": {},
   "source": [
    "# SET"
   ]
  },
  {
   "cell_type": "markdown",
   "id": "fa69c5c5",
   "metadata": {},
   "source": [
    "### 1. Heterogenous   2. curly parenthesis  3. Data cann't be retrived using indexing     4. Immutable"
   ]
  },
  {
   "cell_type": "code",
   "execution_count": 12,
   "id": "c427f01e",
   "metadata": {},
   "outputs": [
    {
     "data": {
      "text/plain": [
       "{1, 12, 134, 3.98, 6.87, 'ML', 'aditya', 'apple', 'hi'}"
      ]
     },
     "execution_count": 12,
     "metadata": {},
     "output_type": "execute_result"
    }
   ],
   "source": [
    "sample_set = {1 , 12 , 3.98 , \"hi\" ,1 , 134 , \"apple\" , 6.87 , \"aditya\" , \"ML\" , 134}\n",
    "sample_set"
   ]
  },
  {
   "cell_type": "code",
   "execution_count": 13,
   "id": "27affda6",
   "metadata": {},
   "outputs": [
    {
     "ename": "TypeError",
     "evalue": "'set' object is not subscriptable",
     "output_type": "error",
     "traceback": [
      "\u001b[1;31m---------------------------------------------------------------------------\u001b[0m",
      "\u001b[1;31mTypeError\u001b[0m                                 Traceback (most recent call last)",
      "Input \u001b[1;32mIn [13]\u001b[0m, in \u001b[0;36m<cell line: 1>\u001b[1;34m()\u001b[0m\n\u001b[1;32m----> 1\u001b[0m \u001b[43msample_set\u001b[49m\u001b[43m[\u001b[49m\u001b[38;5;241;43m1\u001b[39;49m\u001b[43m]\u001b[49m\n",
      "\u001b[1;31mTypeError\u001b[0m: 'set' object is not subscriptable"
     ]
    }
   ],
   "source": [
    "sample_set[1]"
   ]
  },
  {
   "cell_type": "code",
   "execution_count": 14,
   "id": "669bc391",
   "metadata": {},
   "outputs": [
    {
     "data": {
      "text/plain": [
       "{1, 100, 12, 134, 3.98, 6.87, 'ML', 'aditya', 'apple', 'hi'}"
      ]
     },
     "execution_count": 14,
     "metadata": {},
     "output_type": "execute_result"
    }
   ],
   "source": [
    "sample_set.add(100)\n",
    "sample_set"
   ]
  },
  {
   "cell_type": "code",
   "execution_count": 15,
   "id": "728e8fe3",
   "metadata": {},
   "outputs": [
    {
     "data": {
      "text/plain": [
       "{1, 100, 134, 3.98, 6.87, 'ML', 'aditya', 'apple', 'hi'}"
      ]
     },
     "execution_count": 15,
     "metadata": {},
     "output_type": "execute_result"
    }
   ],
   "source": [
    "sample_set.remove(12)\n",
    "sample_set"
   ]
  },
  {
   "cell_type": "markdown",
   "id": "5a956743",
   "metadata": {},
   "source": [
    "# Dictionary"
   ]
  },
  {
   "cell_type": "markdown",
   "id": "98d75e0d",
   "metadata": {},
   "source": [
    "### Has key value data pair\n",
    "### Value can be retrived using key\n",
    "### Key cannot be retrived using index"
   ]
  },
  {
   "cell_type": "code",
   "execution_count": 23,
   "id": "0db48ed0",
   "metadata": {},
   "outputs": [
    {
     "data": {
      "text/plain": [
       "{1: 'hi', 2.3: 41, 4.9: 'key', 'slim': 456}"
      ]
     },
     "execution_count": 23,
     "metadata": {},
     "output_type": "execute_result"
    }
   ],
   "source": [
    "sample_dict = {1:\"Apple\",2.3:41,4.9:\"key\", \"slim\":456 , 1:\"hi\"}\n",
    "sample_dict"
   ]
  },
  {
   "cell_type": "code",
   "execution_count": 19,
   "id": "eb6849d5",
   "metadata": {},
   "outputs": [
    {
     "data": {
      "text/plain": [
       "41"
      ]
     },
     "execution_count": 19,
     "metadata": {},
     "output_type": "execute_result"
    }
   ],
   "source": [
    "sample_dict[2.3] # argument inside [ ] is the key and not index"
   ]
  },
  {
   "cell_type": "code",
   "execution_count": 18,
   "id": "38d8438e",
   "metadata": {},
   "outputs": [
    {
     "data": {
      "text/plain": [
       "{1: 'Apple', 2.3: 41, 4.9: 'key', 'slim': 456, 'Ram': 'GOD'}"
      ]
     },
     "execution_count": 18,
     "metadata": {},
     "output_type": "execute_result"
    }
   ],
   "source": [
    "sample_dict['Ram']=\"GOD\" # adding a new key , value pair\n",
    "sample_dict"
   ]
  },
  {
   "cell_type": "code",
   "execution_count": 21,
   "id": "d5c017f5",
   "metadata": {},
   "outputs": [
    {
     "ename": "KeyError",
     "evalue": "'GOD'",
     "output_type": "error",
     "traceback": [
      "\u001b[1;31m---------------------------------------------------------------------------\u001b[0m",
      "\u001b[1;31mKeyError\u001b[0m                                  Traceback (most recent call last)",
      "Input \u001b[1;32mIn [21]\u001b[0m, in \u001b[0;36m<cell line: 1>\u001b[1;34m()\u001b[0m\n\u001b[1;32m----> 1\u001b[0m \u001b[43msample_dict\u001b[49m\u001b[43m[\u001b[49m\u001b[38;5;124;43m'\u001b[39;49m\u001b[38;5;124;43mGOD\u001b[39;49m\u001b[38;5;124;43m'\u001b[39;49m\u001b[43m]\u001b[49m\n",
      "\u001b[1;31mKeyError\u001b[0m: 'GOD'"
     ]
    }
   ],
   "source": [
    "sample_dict['GOD'] # Key can not be retrived using value . "
   ]
  },
  {
   "cell_type": "code",
   "execution_count": 22,
   "id": "0f92708e",
   "metadata": {},
   "outputs": [
    {
     "data": {
      "text/plain": [
       "100"
      ]
     },
     "execution_count": 22,
     "metadata": {},
     "output_type": "execute_result"
    }
   ],
   "source": [
    "sample_dict[2.3] = 100 # dictionary is mutable for replacing.\n",
    "sample_dict[2.3]"
   ]
  },
  {
   "cell_type": "code",
   "execution_count": null,
   "id": "2833fff4",
   "metadata": {},
   "outputs": [],
   "source": []
  }
 ],
 "metadata": {
  "kernelspec": {
   "display_name": "Python 3 (ipykernel)",
   "language": "python",
   "name": "python3"
  },
  "language_info": {
   "codemirror_mode": {
    "name": "ipython",
    "version": 3
   },
   "file_extension": ".py",
   "mimetype": "text/x-python",
   "name": "python",
   "nbconvert_exporter": "python",
   "pygments_lexer": "ipython3",
   "version": "3.9.12"
  }
 },
 "nbformat": 4,
 "nbformat_minor": 5
}
